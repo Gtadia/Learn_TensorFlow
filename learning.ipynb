{
  "cells": [
    {
      "cell_type": "markdown",
      "metadata": {
        "id": "view-in-github",
        "colab_type": "text"
      },
      "source": [
        "<a href=\"https://colab.research.google.com/github/Gtadia/Learn_TensorFlow/blob/main/learning.ipynb\" target=\"_parent\"><img src=\"https://colab.research.google.com/assets/colab-badge.svg\" alt=\"Open In Colab\"/></a>"
      ]
    },
    {
      "cell_type": "markdown",
      "metadata": {
        "id": "-RglxUpISfdf"
      },
      "source": [
        "# Header 1/Title\n",
        "\n",
        "## Header 2/major headings\n",
        "\n",
        "### This is a subtitle in Markdown\n",
        "\n",
        "#### This is a smaller subtitle\n",
        "\n",
        "##### This is an even smaller subtitle\n",
        "\n",
        "###### And so on\n",
        "\n",
        "> This is a blockquote. Anything in this block are going to be indented\n",
        "<blockquote> This is also a blockquote </blockquote>\n",
        "\n",
        "&nbsp; single space\n",
        "&ensp; double space\n",
        "&emsp; 4 spaces\n",
        "$\\;\\;\\;\\;\\;$ More space options\n",
        "\n",
        "\n",
        "<br> Break line <br>\n",
        "\n",
        "__BOLD TEXT__\n",
        "**ALSO BOLD** \n",
        "_ITALICIZED TEXT_\n",
        "*ALSO ITALICIZED*\n",
        "\n",
        "\n",
        "- Bullet Points\n",
        "1. Numbered List\n",
        "2. Heck yeah\n",
        "4. You can also skip numbers (but it doesn't skip when compiled, wow)\n",
        "\n",
        "*** \n",
        "Horizontal Lines \n",
        "***\n"
      ]
    },
    {
      "cell_type": "raw",
      "metadata": {
        "id": "QgwlHvE5Sfdi"
      },
      "source": [
        "Features and Labels\n",
        "    - Features:\n",
        "    The input information, aka features, is information that we need to give to teh model to get some output.\n",
        "\n",
        "    - Labels:\n",
        "    That label is the output: what we are tryping to look for or predict.\n",
        "\n",
        "Feed Features, Receive Labels"
      ]
    },
    {
      "cell_type": "markdown",
      "metadata": {
        "id": "C9Blx3lsSfdi"
      },
      "source": [
        "__Different Types of Machine Learning:__\n",
        "- Unsupervised Learning\n",
        "- Supervised Learning\n",
        "- Reinforcement Learning\n",
        "\n",
        "\n",
        "__Supervised Learning:__ <br>\n",
        "&emsp; We input in features that corresponds to its labels<br>\n",
        "&emsp; We already knows the rules:\n",
        "- We pass in the input data and make predictions/labels based on the rules it already knows. \n",
        "- Then it compares the prediction values with the actual data.\n",
        "- Then it tweaks the settings a little bit to get the prediction closer to the actual value. \n",
        "\n",
        "\n",
        "__Unsupervised Learning:__ <br>\n",
        "&emsp; When we don't have the output of the data set/information.<br>\n",
        "&emsp; In other words, we only have the features but no Labels.\n",
        "- What we want is to have the model to come up with the labels for us \n",
        "- It comes up with the labels by grouping certain data points together and when a data point is closer to a ceratin group, the more likely it is that it is a part of that label. \n",
        "    \n",
        "![title](Unsupervised_Learning.png)\n",
        "\n",
        "\n",
        "__Reinforcement Learning:__ <br>\n",
        "&emsp; You don't have any data but instead of any data, you have agents, an enviroment, and a reward. <br>\n",
        "&emsp; For Example, <br>\n",
        "&emsp; A machine learning model that learns how to play mario.\n",
        "- the character/Mario               ==> the agent\n",
        "- the game platforms/the map        ==> the environment\n",
        "- Getting closer to the finish      ==> the reward (the reward increases the closer they get to the finish/if they move backwards, they will get a negative reward)\n"
      ]
    },
    {
      "cell_type": "markdown",
      "metadata": {
        "id": "m-mox5HmSfdj"
      },
      "source": [
        "# How Tensorflow Works\n",
        "\n",
        "__Tensorflow has two main compoents that we need to understand__\n",
        "1. Graphs\n",
        "2. Sessions\n",
        "\n",
        "Tensorflow works by creating a graph of partial computations. \n",
        "&emsp; Essentially, what we do when we write code in TensorFlow is that we create a graph. So if I were to create some variables, those variables get added to the graph (and may that variable the is the sum of two other variables). So what the graph will define now is \"Variable 1 = Variable 2 + Variable 3\". However, we only know the function exists but we don't know anything else about it (such as 7 = 3 + 4). In other words, we haven't evulated it yet. <br>\n",
        "* This is what is stored in the graph\n",
        "\n",
        "The reason why it's called a graph is beause different computations can be related to each other.\n",
        "* For example, if I were to find the value of __V1__ but __V1 = V2 + V3__, I need to determine the value of __V2__ and __v3__ before I can find the value of __V1__. \n",
        "\n",
        "A session is essentially a way to execute part or the entire graph. <br>\n",
        "So when we start a session, what we do is we start executing different aspects of the graph. \n",
        "* We start at the lowest level of the graph where nothing is dependent on anything else (We maybe have constant values or something like that). Then we move our way through our graph and start doing all the different partial computations that we've defined. \n",
        "\n",
        "<br>\n",
        "***\n",
        "## In Short\n",
        "TensorFlow works by building a graph of defined computations. Nothing is computed or stored in this graph. It is simply a way of definig the oeprations that have been written in code. <br>\n",
        "A TensorFlow sessions allows parts of teh graph to be executed. It allocates memory and resources and handles the execution of the operations and computations we've defined. <br>\n",
        "In some instances, we will need to run a session to be able to execute parts ofthe grpah we've created earlier.\n",
        "***"
      ]
    },
    {
      "cell_type": "markdown",
      "metadata": {
        "id": "_XJpqBcsSfdk"
      },
      "source": [
        "## Tensors \n",
        "\"A tensor is a generalization of vectors and matrices to potentially higher dimensions. Internally, TensorFlow represents tensors as n-dimensional arrays of base datatypes.\" (https://www.tensorflow.org/guide/tensor)\n",
        "\n",
        "It should't surprise you that tensors are a fundemental apsect of TensorFlow. They are the main objects that are passed around and manipluated throughout the program. Each tensor represents a partialy defined computation that will eventually produce a value. TensorFlow programs work by building a graph of Tensor objects that details how tensors are related. Running different parts of the graph allow results to be generated.\n",
        "\n",
        "Each tensor has a data type and a shape. \n",
        "\n",
        "**Data Types Include**: float32, int32, string and others.\n",
        "\n",
        "**Shape**: Represents the dimension of data.\n",
        "\n",
        "The data types is simply the kind of information being stored in the tensor. <br>\n",
        "The shape is simply the representation of the tensor in terms of what the dimension it is. <br>\n",
        "\n",
        "Just like vectors and matrices tensors can have operations applied to them like addition, subtraction, dot product, cross product etc.\n",
        "\n",
        "In the next sections we will discuss some different properties of tensors. This is to make you more familiar with how tensorflow represnts data and how you can manipulate this data.\n",
        "\n"
      ]
    },
    {
      "cell_type": "markdown",
      "metadata": {
        "id": "dlSoi-auSfdk"
      },
      "source": []
    }
  ],
  "metadata": {
    "kernelspec": {
      "display_name": "Python 3.9.12 ('mlp')",
      "language": "python",
      "name": "python3"
    },
    "language_info": {
      "codemirror_mode": {
        "name": "ipython",
        "version": 3
      },
      "file_extension": ".py",
      "mimetype": "text/x-python",
      "name": "python",
      "nbconvert_exporter": "python",
      "pygments_lexer": "ipython3",
      "version": "3.9.12"
    },
    "orig_nbformat": 4,
    "vscode": {
      "interpreter": {
        "hash": "05f883a425163c795d398f148b62955aa36cf6bbaa6684179d0c48bc6a4fe28a"
      }
    },
    "colab": {
      "name": "learning.ipynb",
      "provenance": [],
      "include_colab_link": true
    }
  },
  "nbformat": 4,
  "nbformat_minor": 0
}